{
 "cells": [
  {
   "cell_type": "code",
   "execution_count": 73,
   "metadata": {},
   "outputs": [],
   "source": [
    "%matplotlib inline\n",
    "import os\n",
    "import pandas as pd\n",
    "import matplotlib.pyplot as plt\n",
    "import numpy as np\n",
    "from scipy import stats\n",
    "from numpy import array\n",
    "\n",
    "pd.set_option('display.max_rows', 200)\n",
    "\n",
    "filepath = os.path.join('Resources', 'countries.csv')\n",
    "eco_csv = pd.read_csv(filepath, header=0)\n",
    "# eco_csv.head()"
   ]
  },
  {
   "cell_type": "code",
   "execution_count": 3,
   "metadata": {},
   "outputs": [
    {
     "data": {
      "text/html": [
       "<div>\n",
       "<style scoped>\n",
       "    .dataframe tbody tr th:only-of-type {\n",
       "        vertical-align: middle;\n",
       "    }\n",
       "\n",
       "    .dataframe tbody tr th {\n",
       "        vertical-align: top;\n",
       "    }\n",
       "\n",
       "    .dataframe thead th {\n",
       "        text-align: right;\n",
       "    }\n",
       "</style>\n",
       "<table border=\"1\" class=\"dataframe\">\n",
       "  <thead>\n",
       "    <tr style=\"text-align: right;\">\n",
       "      <th></th>\n",
       "      <th>Country</th>\n",
       "      <th>Region</th>\n",
       "      <th>Population (millions)</th>\n",
       "      <th>HDI</th>\n",
       "      <th>GDP per Capita</th>\n",
       "      <th>Total Ecological Footprint</th>\n",
       "      <th>Biocapacity Deficit or Reserve</th>\n",
       "      <th>Footprint per Mil Persons</th>\n",
       "    </tr>\n",
       "  </thead>\n",
       "  <tbody>\n",
       "    <tr>\n",
       "      <th>0</th>\n",
       "      <td>Afghanistan</td>\n",
       "      <td>Middle East/Central Asia</td>\n",
       "      <td>29.82</td>\n",
       "      <td>0.46</td>\n",
       "      <td>614.66</td>\n",
       "      <td>0.79</td>\n",
       "      <td>-0.30</td>\n",
       "      <td>0.026492</td>\n",
       "    </tr>\n",
       "    <tr>\n",
       "      <th>1</th>\n",
       "      <td>Albania</td>\n",
       "      <td>Northern/Eastern Europe</td>\n",
       "      <td>3.16</td>\n",
       "      <td>0.73</td>\n",
       "      <td>4534.37</td>\n",
       "      <td>2.21</td>\n",
       "      <td>-1.03</td>\n",
       "      <td>0.699367</td>\n",
       "    </tr>\n",
       "    <tr>\n",
       "      <th>2</th>\n",
       "      <td>Algeria</td>\n",
       "      <td>Africa</td>\n",
       "      <td>38.48</td>\n",
       "      <td>0.73</td>\n",
       "      <td>5430.57</td>\n",
       "      <td>2.12</td>\n",
       "      <td>-1.53</td>\n",
       "      <td>0.055094</td>\n",
       "    </tr>\n",
       "    <tr>\n",
       "      <th>3</th>\n",
       "      <td>Angola</td>\n",
       "      <td>Africa</td>\n",
       "      <td>20.82</td>\n",
       "      <td>0.52</td>\n",
       "      <td>4665.91</td>\n",
       "      <td>0.93</td>\n",
       "      <td>1.61</td>\n",
       "      <td>0.044669</td>\n",
       "    </tr>\n",
       "    <tr>\n",
       "      <th>4</th>\n",
       "      <td>Antigua and Barbuda</td>\n",
       "      <td>Latin America</td>\n",
       "      <td>0.09</td>\n",
       "      <td>0.78</td>\n",
       "      <td>13205.10</td>\n",
       "      <td>5.38</td>\n",
       "      <td>-4.44</td>\n",
       "      <td>59.777778</td>\n",
       "    </tr>\n",
       "  </tbody>\n",
       "</table>\n",
       "</div>"
      ],
      "text/plain": [
       "               Country                    Region  Population (millions)   HDI  \\\n",
       "0          Afghanistan  Middle East/Central Asia                  29.82  0.46   \n",
       "1              Albania   Northern/Eastern Europe                   3.16  0.73   \n",
       "2              Algeria                    Africa                  38.48  0.73   \n",
       "3               Angola                    Africa                  20.82  0.52   \n",
       "4  Antigua and Barbuda             Latin America                   0.09  0.78   \n",
       "\n",
       "   GDP per Capita  Total Ecological Footprint  Biocapacity Deficit or Reserve  \\\n",
       "0          614.66                        0.79                           -0.30   \n",
       "1         4534.37                        2.21                           -1.03   \n",
       "2         5430.57                        2.12                           -1.53   \n",
       "3         4665.91                        0.93                            1.61   \n",
       "4        13205.10                        5.38                           -4.44   \n",
       "\n",
       "   Footprint per Mil Persons  \n",
       "0                   0.026492  \n",
       "1                   0.699367  \n",
       "2                   0.055094  \n",
       "3                   0.044669  \n",
       "4                  59.777778  "
      ]
     },
     "execution_count": 3,
     "metadata": {},
     "output_type": "execute_result"
    }
   ],
   "source": [
    "# New dataframe with only GDP, HDI & Footprint\n",
    "my_df = pd.DataFrame(eco_csv.iloc[:,[0,1,2,3,4,10,17]])\n",
    "my_df['GDP per Capita'] = my_df['GDP per Capita'].str.replace('$','')\n",
    "my_df['GDP per Capita'] = my_df['GDP per Capita'].str.replace(',','')\n",
    "my_df['GDP per Capita'] = my_df['GDP per Capita'].astype(float)\n",
    "my_df['Footprint per Mil Persons'] = my_df['Total Ecological Footprint']/my_df['Population (millions)']\n",
    "my_df.dropna(how='any', inplace=True)\n",
    "# my_df.count()\n",
    "# my_df.dtypes\n",
    "my_df.head()"
   ]
  },
  {
   "cell_type": "markdown",
   "metadata": {},
   "source": [
    "## Scatter Plot of Countries Weighted by Footprint"
   ]
  },
  {
   "cell_type": "code",
   "execution_count": 112,
   "metadata": {},
   "outputs": [
    {
     "data": {
      "image/png": "[encoded data removed]",
      "text/plain": [
       "<Figure size 648x504 with 1 Axes>"
      ]
     },
     "metadata": {
      "needs_background": "light"
     },
     "output_type": "display_data"
    }
   ],
   "source": [
    "# Data lists\n",
    "hdi = my_df['HDI'].tolist()\n",
    "gdp = my_df['GDP per Capita'].tolist()\n",
    "# bdr = my_df['Biocapacity Deficit or Reserve'].tolist()\n",
    "footprint = my_df['Footprint per Mil Persons'].tolist()\n",
    "footprint = [dot+5 for dot in footprint]\n",
    "\n",
    "# Set up axes and labels\n",
    "fig, ax = plt.subplots(figsize=(9,7))\n",
    "plt.grid(linestyle='dotted')\n",
    "# gdp_max = plt.axhline(y=30000, linewidth=0.5, linestyle = '--', color='darkorange')\n",
    "gdp_min = plt.axhline(y=20000, linewidth=0.5, linestyle = '--', color='darkorange')\n",
    "hdi_max = plt.axvline(x=0.80, linewidth=0.5, linestyle = '--', color='darkorange')\n",
    "hdi_min = plt.axvline(x=0.70, linewidth=0.5, linestyle = '--', color='darkorange')\n",
    "\n",
    "# Developed Status shaded range\n",
    "# x = np.linspace(XMIN,XMAX,100)\n",
    "# y = np.linspace(YMIN,YMAX,100)\n",
    "# X,Y = np.meshgrid(x,y)\n",
    "# xbins = np.array(range(0,10,1))\n",
    "# ybins = np.array(range(12000,20000,5000))\n",
    "# xbins = np.zeros(xbins)\n",
    "# X, Y = np.meshgrid(xbins, ybins)\n",
    "# c = ax.pcolor(xbins, ybins)\n",
    "\n",
    "# Plot the chart\n",
    "plt.scatter(hdi, gdp, s=footprint, color='indianred')\n",
    "plt.title('HDI v GDP (Weighted by Eco Footprint)')\n",
    "plt.xlabel('HDI')\n",
    "plt.ylabel('GDP per Capita')\n",
    "\n",
    "# Save and show the figure\n",
    "plt.tight_layout()\n",
    "plt.savefig('Images/footprint_hdi_scatter.png')\n",
    "plt.show()\n"
   ]
  },
  {
   "cell_type": "markdown",
   "metadata": {},
   "source": [
    "## Eco Footprint of Developed Countries"
   ]
  },
  {
   "cell_type": "code",
   "execution_count": 109,
   "metadata": {},
   "outputs": [],
   "source": [
    "# Developed countries only\n",
    "developed = eco_csv.loc[(eco_csv['HDI']>=0.8),:]\n",
    "# developed_c = developed['Country'].tolist()\n",
    "# developed_c\n",
    "developed_df = pd.DataFrame(eco_csv.iloc[:,[0,3,5,6,7,8,9,10]])\n",
    "developed_df.dropna(how='any', inplace=True)\n",
    "# developed_df.count()\n",
    "# developed_df"
   ]
  },
  {
   "cell_type": "code",
   "execution_count": 110,
   "metadata": {},
   "outputs": [
    {
     "data": {
      "text/html": [
       "<div>\n",
       "<style scoped>\n",
       "    .dataframe tbody tr th:only-of-type {\n",
       "        vertical-align: middle;\n",
       "    }\n",
       "\n",
       "    .dataframe tbody tr th {\n",
       "        vertical-align: top;\n",
       "    }\n",
       "\n",
       "    .dataframe thead th {\n",
       "        text-align: right;\n",
       "    }\n",
       "</style>\n",
       "<table border=\"1\" class=\"dataframe\">\n",
       "  <thead>\n",
       "    <tr style=\"text-align: right;\">\n",
       "      <th></th>\n",
       "      <th>Cropland Footprint</th>\n",
       "      <th>Grazing Footprint</th>\n",
       "      <th>Forest Footprint</th>\n",
       "      <th>Carbon Footprint</th>\n",
       "      <th>Fish Footprint</th>\n",
       "      <th>Total Ecological Footprint</th>\n",
       "    </tr>\n",
       "    <tr>\n",
       "      <th>HDI_groups</th>\n",
       "      <th></th>\n",
       "      <th></th>\n",
       "      <th></th>\n",
       "      <th></th>\n",
       "      <th></th>\n",
       "      <th></th>\n",
       "    </tr>\n",
       "  </thead>\n",
       "  <tbody>\n",
       "    <tr>\n",
       "      <th>&lt;0.4</th>\n",
       "      <td>2.58</td>\n",
       "      <td>2.31</td>\n",
       "      <td>2.04</td>\n",
       "      <td>0.45</td>\n",
       "      <td>0.24</td>\n",
       "      <td>7.93</td>\n",
       "    </tr>\n",
       "    <tr>\n",
       "      <th>0.41-0.5</th>\n",
       "      <td>8.98</td>\n",
       "      <td>4.88</td>\n",
       "      <td>7.40</td>\n",
       "      <td>5.69</td>\n",
       "      <td>2.46</td>\n",
       "      <td>30.65</td>\n",
       "    </tr>\n",
       "    <tr>\n",
       "      <th>0.51-0.6</th>\n",
       "      <td>6.69</td>\n",
       "      <td>2.52</td>\n",
       "      <td>7.53</td>\n",
       "      <td>8.27</td>\n",
       "      <td>1.46</td>\n",
       "      <td>27.61</td>\n",
       "    </tr>\n",
       "    <tr>\n",
       "      <th>0.61-0.7</th>\n",
       "      <td>12.54</td>\n",
       "      <td>6.68</td>\n",
       "      <td>6.77</td>\n",
       "      <td>25.87</td>\n",
       "      <td>2.29</td>\n",
       "      <td>55.57</td>\n",
       "    </tr>\n",
       "    <tr>\n",
       "      <th>0.71-0.8</th>\n",
       "      <td>28.71</td>\n",
       "      <td>15.55</td>\n",
       "      <td>13.51</td>\n",
       "      <td>96.23</td>\n",
       "      <td>6.78</td>\n",
       "      <td>163.58</td>\n",
       "    </tr>\n",
       "    <tr>\n",
       "      <th>0.81-0.9</th>\n",
       "      <td>25.90</td>\n",
       "      <td>7.63</td>\n",
       "      <td>16.90</td>\n",
       "      <td>116.72</td>\n",
       "      <td>4.02</td>\n",
       "      <td>174.31</td>\n",
       "    </tr>\n",
       "    <tr>\n",
       "      <th>&gt;0.9</th>\n",
       "      <td>11.44</td>\n",
       "      <td>3.63</td>\n",
       "      <td>7.22</td>\n",
       "      <td>41.09</td>\n",
       "      <td>1.97</td>\n",
       "      <td>66.72</td>\n",
       "    </tr>\n",
       "  </tbody>\n",
       "</table>\n",
       "</div>"
      ],
      "text/plain": [
       "            Cropland Footprint  Grazing Footprint  Forest Footprint  \\\n",
       "HDI_groups                                                            \n",
       "<0.4                      2.58               2.31              2.04   \n",
       "0.41-0.5                  8.98               4.88              7.40   \n",
       "0.51-0.6                  6.69               2.52              7.53   \n",
       "0.61-0.7                 12.54               6.68              6.77   \n",
       "0.71-0.8                 28.71              15.55             13.51   \n",
       "0.81-0.9                 25.90               7.63             16.90   \n",
       ">0.9                     11.44               3.63              7.22   \n",
       "\n",
       "            Carbon Footprint  Fish Footprint  Total Ecological Footprint  \n",
       "HDI_groups                                                                \n",
       "<0.4                    0.45            0.24                        7.93  \n",
       "0.41-0.5                5.69            2.46                       30.65  \n",
       "0.51-0.6                8.27            1.46                       27.61  \n",
       "0.61-0.7               25.87            2.29                       55.57  \n",
       "0.71-0.8               96.23            6.78                      163.58  \n",
       "0.81-0.9              116.72            4.02                      174.31  \n",
       ">0.9                   41.09            1.97                       66.72  "
      ]
     },
     "execution_count": 110,
     "metadata": {},
     "output_type": "execute_result"
    }
   ],
   "source": [
    "# Developed countries grouped by HDI\n",
    "bins = [0.3, 0.4, 0.5, 0.6, 0.7, 0.8, 0.9, 1]\n",
    "group_names = [\"<0.4\", \"0.41-0.5\", \"0.51-0.6\", \"0.61-0.7\", \"0.71-0.8\", \"0.81-0.9\", \">0.9\"]\n",
    "\n",
    "developed_df['HDI_groups'] = pd.cut(developed_df['HDI'], bins, labels=group_names)\n",
    "dev_footprint = developed_df.groupby('HDI_groups').sum()\n",
    "dev_footprint.pop('HDI')\n",
    "dev_footprint"
   ]
  },
  {
   "cell_type": "code",
   "execution_count": 115,
   "metadata": {},
   "outputs": [
    {
     "data": {
      "image/png": "[encoded data removed]",
      "text/plain": [
       "<Figure size 720x576 with 1 Axes>"
      ]
     },
     "metadata": {
      "needs_background": "light"
     },
     "output_type": "display_data"
    }
   ],
   "source": [
    "# Data lists\n",
    "carbon_foot = dev_footprint['Carbon Footprint']\n",
    "crop_foot = dev_footprint['Cropland Footprint']\n",
    "forest_foot = dev_footprint['Forest Footprint']\n",
    "grazing_foot = dev_footprint['Grazing Footprint']\n",
    "fish_foot = dev_footprint['Fish Footprint']\n",
    "\n",
    "# Set up axes and labels\n",
    "fig, ax = plt.subplots(figsize=(10,8))\n",
    "x_ticks = np.arange(len(group_names))\n",
    "ax.set_xticks(x_ticks)\n",
    "ax.set_xticklabels(group_names, rotation=45)\n",
    "plt.grid(linestyle='dotted', zorder=0)\n",
    "plt.title('Eco Footprint Composition')\n",
    "plt.xlabel('HDI Groups')\n",
    "plt.ylabel('Eco Footprint (hectares)')\n",
    "    \n",
    "# Calculate the bottoms of each stacked bar\n",
    "crop_bottom = carbon_foot\n",
    "forest_bottom = np.add(carbon_foot, crop_foot)\n",
    "grazing_bottom = np.add(forest_bottom, forest_foot)\n",
    "fish_bottom = np.add(grazing_bottom, grazing_foot)\n",
    "\n",
    "# Plot the stacked bar chart\n",
    "carbon_bar = plt.bar(x_ticks, carbon_foot, width=0.8, color='darkred', zorder=2)\n",
    "crop_bar = plt.bar(x_ticks, crop_foot, width=0.8, bottom=crop_bottom, color='brown', zorder=2)\n",
    "forest_bar = plt.bar(x_ticks, forest_foot, width=0.8, bottom=forest_bottom, color='indianred', zorder=2)\n",
    "grazing_bar = plt.bar(x_ticks, grazing_foot, width=0.8, bottom=grazing_bottom, color='lightcoral', zorder=2)\n",
    "fish_bar = plt.bar(x_ticks, fish_foot, width=0.8, bottom=fish_bottom, color='lightsalmon', zorder=2)\n",
    "\n",
    "plt.legend((carbon_bar, crop_bar, forest_bar, grazing_bar, fish_bar), ('Carbon', 'Cropland', 'Forest', 'Grazing', 'Fish'))\n",
    "\n",
    "# Save and show the figure\n",
    "plt.tight_layout()\n",
    "plt.savefig('Images/footprint_hdi_bar.png')\n",
    "plt.show()\n"
   ]
  },
  {
   "cell_type": "markdown",
   "metadata": {},
   "source": [
    "## Number of Developed Countries (HDI >= 0.8)"
   ]
  },
  {
   "cell_type": "code",
   "execution_count": 90,
   "metadata": {},
   "outputs": [
    {
     "data": {
      "text/plain": [
       "45"
      ]
     },
     "execution_count": 90,
     "metadata": {},
     "output_type": "execute_result"
    }
   ],
   "source": [
    "developed = eco_csv.loc[(eco_csv['HDI']>=0.8),:]\n",
    "developed['Country'].count()\n",
    "# developed_c = developed['Country'].tolist()"
   ]
  },
  {
   "cell_type": "markdown",
   "metadata": {},
   "source": [
    "## Number of Developed Countries with Earths Required > 1.0 "
   ]
  },
  {
   "cell_type": "code",
   "execution_count": 96,
   "metadata": {},
   "outputs": [
    {
     "data": {
      "text/plain": [
       "45"
      ]
     },
     "execution_count": 96,
     "metadata": {},
     "output_type": "execute_result"
    }
   ],
   "source": [
    "earths_d = developed.loc[(developed['Earths Required']>1.0),:]\n",
    "earths_d['Country'].count()"
   ]
  },
  {
   "cell_type": "markdown",
   "metadata": {},
   "source": [
    "## Number of Developing Countries (HDI Between 0.7 & 0.8)"
   ]
  },
  {
   "cell_type": "code",
   "execution_count": 85,
   "metadata": {},
   "outputs": [
    {
     "data": {
      "text/plain": [
       "51"
      ]
     },
     "execution_count": 85,
     "metadata": {},
     "output_type": "execute_result"
    }
   ],
   "source": [
    "developing = eco_csv.loc[(eco_csv['HDI']>=0.7) & (eco_csv['HDI']<0.8),:]\n",
    "developing['Country'].count()\n",
    "# developing_c = developing['Country'].tolist()"
   ]
  },
  {
   "cell_type": "markdown",
   "metadata": {},
   "source": [
    "## Number of Undeveloped Countries (HDI <= 0.5)"
   ]
  },
  {
   "cell_type": "code",
   "execution_count": 91,
   "metadata": {},
   "outputs": [
    {
     "data": {
      "text/plain": [
       "33"
      ]
     },
     "execution_count": 91,
     "metadata": {},
     "output_type": "execute_result"
    }
   ],
   "source": [
    "undeveloped = eco_csv.loc[(eco_csv['HDI']<=0.5),:]\n",
    "undeveloped['Country'].count()\n",
    "# undeveloped_c = undeveloped['Country'].tolist()"
   ]
  },
  {
   "cell_type": "markdown",
   "metadata": {},
   "source": [
    "## Number of Countries with Earths Required > 1.0"
   ]
  },
  {
   "cell_type": "code",
   "execution_count": 97,
   "metadata": {},
   "outputs": [
    {
     "data": {
      "text/plain": [
       "129"
      ]
     },
     "execution_count": 97,
     "metadata": {},
     "output_type": "execute_result"
    }
   ],
   "source": [
    "earths = eco_csv.loc[(eco_csv['Earths Required']>1.0),:]\n",
    "earths['Country'].count()"
   ]
  },
  {
   "cell_type": "code",
   "execution_count": null,
   "metadata": {},
   "outputs": [],
   "source": []
  }
 ],
 "metadata": {
  "kernelspec": {
   "display_name": "Python 3",
   "language": "python",
   "name": "python3"
  },
  "language_info": {
   "codemirror_mode": {
    "name": "ipython",
    "version": 3
   },
   "file_extension": ".py",
   "mimetype": "text/x-python",
   "name": "python",
   "nbconvert_exporter": "python",
   "pygments_lexer": "ipython3",
   "version": "3.6.8"
  }
 },
 "nbformat": 4,
 "nbformat_minor": 2
}
