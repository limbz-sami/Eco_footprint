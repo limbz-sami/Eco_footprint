{
 "cells": [
  {
   "cell_type": "code",
   "execution_count": 108,
   "metadata": {},
   "outputs": [],
   "source": [
    "import pandas as pd\n",
    "import numpy as np\n",
    "import matplotlib.pyplot as plt\n",
    "import scipy as stats\n"
   ]
  },
  {
   "cell_type": "code",
   "execution_count": 75,
   "metadata": {},
   "outputs": [
    {
     "data": {
      "text/plain": [
       "Index(['Country', 'Region', 'Population (millions)', 'HDI', 'GDP per Capita',\n",
       "       'Cropland Footprint', 'Grazing Footprint', 'Forest Footprint',\n",
       "       'Carbon Footprint', 'Fish Footprint', 'Total Ecological Footprint',\n",
       "       'Cropland', 'Grazing Land', 'Forest Land', 'Fishing Water',\n",
       "       'Urban Land', 'Total Biocapacity', 'Biocapacity Deficit or Reserve',\n",
       "       'Earths Required', 'Countries Required', 'Data Quality'],\n",
       "      dtype='object')"
      ]
     },
     "execution_count": 75,
     "metadata": {},
     "output_type": "execute_result"
    }
   ],
   "source": [
    "filepath = \"Resources/countries.csv\"\n",
    "eco_csv = pd.read_csv(filepath, header=0)\n",
    "eco_csv.head()\n",
    "# eco_csv.set_index(\"Region\")\n",
    "eco_csv.columns"
   ]
  },
  {
   "cell_type": "code",
   "execution_count": 99,
   "metadata": {},
   "outputs": [
    {
     "data": {
      "text/html": [
       "<div>\n",
       "<style scoped>\n",
       "    .dataframe tbody tr th:only-of-type {\n",
       "        vertical-align: middle;\n",
       "    }\n",
       "\n",
       "    .dataframe tbody tr th {\n",
       "        vertical-align: top;\n",
       "    }\n",
       "\n",
       "    .dataframe thead th {\n",
       "        text-align: right;\n",
       "    }\n",
       "</style>\n",
       "<table border=\"1\" class=\"dataframe\">\n",
       "  <thead>\n",
       "    <tr style=\"text-align: right;\">\n",
       "      <th></th>\n",
       "      <th>Country</th>\n",
       "      <th>Region</th>\n",
       "      <th>Total Ecological Footprint</th>\n",
       "      <th>Biocapacity Deficit or Reserve</th>\n",
       "    </tr>\n",
       "  </thead>\n",
       "  <tbody>\n",
       "    <tr>\n",
       "      <th>0</th>\n",
       "      <td>Afghanistan</td>\n",
       "      <td>Middle East/Central Asia</td>\n",
       "      <td>0.79</td>\n",
       "      <td>-0.30</td>\n",
       "    </tr>\n",
       "    <tr>\n",
       "      <th>1</th>\n",
       "      <td>Albania</td>\n",
       "      <td>Northern/Eastern Europe</td>\n",
       "      <td>2.21</td>\n",
       "      <td>-1.03</td>\n",
       "    </tr>\n",
       "    <tr>\n",
       "      <th>2</th>\n",
       "      <td>Algeria</td>\n",
       "      <td>Africa</td>\n",
       "      <td>2.12</td>\n",
       "      <td>-1.53</td>\n",
       "    </tr>\n",
       "    <tr>\n",
       "      <th>3</th>\n",
       "      <td>Angola</td>\n",
       "      <td>Africa</td>\n",
       "      <td>0.93</td>\n",
       "      <td>1.61</td>\n",
       "    </tr>\n",
       "    <tr>\n",
       "      <th>4</th>\n",
       "      <td>Antigua and Barbuda</td>\n",
       "      <td>Latin America</td>\n",
       "      <td>5.38</td>\n",
       "      <td>-4.44</td>\n",
       "    </tr>\n",
       "  </tbody>\n",
       "</table>\n",
       "</div>"
      ],
      "text/plain": [
       "               Country                    Region  Total Ecological Footprint  \\\n",
       "0          Afghanistan  Middle East/Central Asia                        0.79   \n",
       "1              Albania   Northern/Eastern Europe                        2.21   \n",
       "2              Algeria                    Africa                        2.12   \n",
       "3               Angola                    Africa                        0.93   \n",
       "4  Antigua and Barbuda             Latin America                        5.38   \n",
       "\n",
       "   Biocapacity Deficit or Reserve  \n",
       "0                           -0.30  \n",
       "1                           -1.03  \n",
       "2                           -1.53  \n",
       "3                            1.61  \n",
       "4                           -4.44  "
      ]
     },
     "execution_count": 99,
     "metadata": {},
     "output_type": "execute_result"
    }
   ],
   "source": [
    "clean_df = eco_csv[['Country', 'Region', 'Total Ecological Footprint', 'Biocapacity Deficit or Reserve']]\n",
    "clean_df.head()"
   ]
  },
  {
   "cell_type": "code",
   "execution_count": 100,
   "metadata": {},
   "outputs": [
    {
     "data": {
      "text/plain": [
       "0      614.66\n",
       "1     4534.37\n",
       "2     5430.57\n",
       "3     4665.91\n",
       "4    13205.10\n",
       "Name: GDP per Capita, dtype: float64"
      ]
     },
     "execution_count": 100,
     "metadata": {},
     "output_type": "execute_result"
    }
   ],
   "source": [
    "# convert GDP per Capita to float\n",
    "gdp_df = eco_csv[eco_csv.columns[4]].replace('[\\$,]', '', regex=True).astype(float)\n",
    "gdp_df.head()\n",
    "# print(gdp_df.mean())\n",
    "# print(gdp_df.median())\n",
    "# print(gdp_df.max())\n",
    "# print(gdp_df.min())\n"
   ]
  },
  {
   "cell_type": "code",
   "execution_count": 101,
   "metadata": {},
   "outputs": [
    {
     "data": {
      "text/html": [
       "<div>\n",
       "<style scoped>\n",
       "    .dataframe tbody tr th:only-of-type {\n",
       "        vertical-align: middle;\n",
       "    }\n",
       "\n",
       "    .dataframe tbody tr th {\n",
       "        vertical-align: top;\n",
       "    }\n",
       "\n",
       "    .dataframe thead th {\n",
       "        text-align: right;\n",
       "    }\n",
       "</style>\n",
       "<table border=\"1\" class=\"dataframe\">\n",
       "  <thead>\n",
       "    <tr style=\"text-align: right;\">\n",
       "      <th></th>\n",
       "      <th>Total Ecological Footprint</th>\n",
       "      <th>Biocapacity Deficit or Reserve</th>\n",
       "      <th>GDP per Capita</th>\n",
       "    </tr>\n",
       "    <tr>\n",
       "      <th>Region</th>\n",
       "      <th></th>\n",
       "      <th></th>\n",
       "      <th></th>\n",
       "    </tr>\n",
       "  </thead>\n",
       "  <tbody>\n",
       "    <tr>\n",
       "      <th>Africa</th>\n",
       "      <td>1.670962</td>\n",
       "      <td>0.591923</td>\n",
       "      <td>2668.142400</td>\n",
       "    </tr>\n",
       "    <tr>\n",
       "      <th>Asia-Pacific</th>\n",
       "      <td>2.970303</td>\n",
       "      <td>-0.143030</td>\n",
       "      <td>12192.205000</td>\n",
       "    </tr>\n",
       "    <tr>\n",
       "      <th>European Union</th>\n",
       "      <td>5.475385</td>\n",
       "      <td>-1.826923</td>\n",
       "      <td>35819.146923</td>\n",
       "    </tr>\n",
       "    <tr>\n",
       "      <th>Latin America</th>\n",
       "      <td>3.483846</td>\n",
       "      <td>6.080513</td>\n",
       "      <td>8376.773125</td>\n",
       "    </tr>\n",
       "    <tr>\n",
       "      <th>Middle East/Central Asia</th>\n",
       "      <td>4.054348</td>\n",
       "      <td>-3.081304</td>\n",
       "      <td>16368.722273</td>\n",
       "    </tr>\n",
       "  </tbody>\n",
       "</table>\n",
       "</div>"
      ],
      "text/plain": [
       "                          Total Ecological Footprint  \\\n",
       "Region                                                 \n",
       "Africa                                      1.670962   \n",
       "Asia-Pacific                                2.970303   \n",
       "European Union                              5.475385   \n",
       "Latin America                               3.483846   \n",
       "Middle East/Central Asia                    4.054348   \n",
       "\n",
       "                          Biocapacity Deficit or Reserve  GDP per Capita  \n",
       "Region                                                                    \n",
       "Africa                                          0.591923     2668.142400  \n",
       "Asia-Pacific                                   -0.143030    12192.205000  \n",
       "European Union                                 -1.826923    35819.146923  \n",
       "Latin America                                   6.080513     8376.773125  \n",
       "Middle East/Central Asia                       -3.081304    16368.722273  "
      ]
     },
     "execution_count": 101,
     "metadata": {},
     "output_type": "execute_result"
    }
   ],
   "source": [
    "merged_df = pd.merge(clean_df, gdp_df, left_index= True, right_index = True).set_index(\"Region\")\n",
    "mean_df = merged_df.groupby(\"Region\").mean()\n",
    "mean_df.head()\n",
    "# median_df = merged_df.groupby(\"Region\").median()\n",
    "# median_df.head()\n",
    "# clean_pivot = pd.pivot_table(merged_df, columns = (\"Country\"))\n",
    "# clean_pivot"
   ]
  },
  {
   "cell_type": "code",
   "execution_count": 102,
   "metadata": {},
   "outputs": [
    {
     "data": {
      "text/html": [
       "<div>\n",
       "<style scoped>\n",
       "    .dataframe tbody tr th:only-of-type {\n",
       "        vertical-align: middle;\n",
       "    }\n",
       "\n",
       "    .dataframe tbody tr th {\n",
       "        vertical-align: top;\n",
       "    }\n",
       "\n",
       "    .dataframe thead th {\n",
       "        text-align: right;\n",
       "    }\n",
       "</style>\n",
       "<table border=\"1\" class=\"dataframe\">\n",
       "  <thead>\n",
       "    <tr style=\"text-align: right;\">\n",
       "      <th>Country</th>\n",
       "      <th>United States of America</th>\n",
       "      <th>Israel</th>\n",
       "      <th>Germany</th>\n",
       "      <th>France</th>\n",
       "      <th>United Kingdom</th>\n",
       "      <th>China</th>\n",
       "      <th>Denmark</th>\n",
       "    </tr>\n",
       "  </thead>\n",
       "  <tbody>\n",
       "    <tr>\n",
       "      <th>Biocapacity Deficit or Reserve</th>\n",
       "      <td>-4.46</td>\n",
       "      <td>-5.87</td>\n",
       "      <td>-3.02</td>\n",
       "      <td>-2.04</td>\n",
       "      <td>-3.62</td>\n",
       "      <td>-2.44</td>\n",
       "      <td>-0.73</td>\n",
       "    </tr>\n",
       "    <tr>\n",
       "      <th>GDP per Capita</th>\n",
       "      <td>49725.00</td>\n",
       "      <td>33718.90</td>\n",
       "      <td>46822.40</td>\n",
       "      <td>45430.30</td>\n",
       "      <td>40980.50</td>\n",
       "      <td>5560.94</td>\n",
       "      <td>61413.60</td>\n",
       "    </tr>\n",
       "    <tr>\n",
       "      <th>Total Ecological Footprint</th>\n",
       "      <td>8.22</td>\n",
       "      <td>6.22</td>\n",
       "      <td>5.30</td>\n",
       "      <td>5.14</td>\n",
       "      <td>4.94</td>\n",
       "      <td>3.38</td>\n",
       "      <td>5.51</td>\n",
       "    </tr>\n",
       "  </tbody>\n",
       "</table>\n",
       "</div>"
      ],
      "text/plain": [
       "Country                         United States of America    Israel   Germany  \\\n",
       "Biocapacity Deficit or Reserve                     -4.46     -5.87     -3.02   \n",
       "GDP per Capita                                  49725.00  33718.90  46822.40   \n",
       "Total Ecological Footprint                          8.22      6.22      5.30   \n",
       "\n",
       "Country                           France  United Kingdom    China   Denmark  \n",
       "Biocapacity Deficit or Reserve     -2.04           -3.62    -2.44     -0.73  \n",
       "GDP per Capita                  45430.30        40980.50  5560.94  61413.60  \n",
       "Total Ecological Footprint          5.14            4.94     3.38      5.51  "
      ]
     },
     "execution_count": 102,
     "metadata": {},
     "output_type": "execute_result"
    }
   ],
   "source": [
    "country_pivot = pd.pivot_table(merged_df, columns = (\"Country\"))\n",
    "country_compare = country_pivot[[\"United States of America\", \"Israel\", \"Germany\", \"France\", \"United Kingdom\", \"China\", \"Denmark\"]]\n",
    "country_compare"
   ]
  },
  {
   "cell_type": "code",
   "execution_count": 106,
   "metadata": {},
   "outputs": [
    {
     "ename": "AxisError",
     "evalue": "axis -1 is out of bounds for array of dimension 0",
     "output_type": "error",
     "traceback": [
      "\u001b[1;31m---------------------------------------------------------------------------\u001b[0m",
      "\u001b[1;31mAxisError\u001b[0m                                 Traceback (most recent call last)",
      "\u001b[1;32m<ipython-input-106-b3054100e470>\u001b[0m in \u001b[0;36m<module>\u001b[1;34m\u001b[0m\n\u001b[0;32m      1\u001b[0m \u001b[0mbins\u001b[0m \u001b[1;33m=\u001b[0m \u001b[1;33m{\u001b[0m\u001b[1;34m\"<1000\"\u001b[0m\u001b[1;33m,\u001b[0m \u001b[1;34m\"<5000\"\u001b[0m\u001b[1;33m,\u001b[0m \u001b[1;34m\"<25000\"\u001b[0m\u001b[1;33m,\u001b[0m \u001b[1;34m\"<125000\"\u001b[0m\u001b[1;33m,\u001b[0m \u001b[1;34m\"<625000\"\u001b[0m\u001b[1;33m}\u001b[0m\u001b[1;33m\u001b[0m\u001b[1;33m\u001b[0m\u001b[0m\n\u001b[0;32m      2\u001b[0m \u001b[0mlabels\u001b[0m \u001b[1;33m=\u001b[0m \u001b[1;33m{\u001b[0m\u001b[1;34m\"low\"\u001b[0m\u001b[1;33m,\u001b[0m \u001b[1;34m\"low-med\"\u001b[0m\u001b[1;33m,\u001b[0m \u001b[1;34m\"med\"\u001b[0m\u001b[1;33m,\u001b[0m \u001b[1;34m\"med-high\"\u001b[0m\u001b[1;33m,\u001b[0m \u001b[1;34m\"high\"\u001b[0m\u001b[1;33m,\u001b[0m \u001b[1;34m\"very high\"\u001b[0m\u001b[1;33m}\u001b[0m\u001b[1;33m\u001b[0m\u001b[1;33m\u001b[0m\u001b[0m\n\u001b[1;32m----> 3\u001b[1;33m \u001b[0mtest_df\u001b[0m\u001b[1;33m=\u001b[0m \u001b[0mmerged_df\u001b[0m\u001b[1;33m[\u001b[0m\u001b[1;34m\"Country\"\u001b[0m\u001b[1;33m]\u001b[0m \u001b[1;33m=\u001b[0m \u001b[0mpd\u001b[0m\u001b[1;33m.\u001b[0m\u001b[0mcut\u001b[0m\u001b[1;33m(\u001b[0m\u001b[0mmerged_df\u001b[0m\u001b[1;33m[\u001b[0m\u001b[1;34m\"GDP per Capita\"\u001b[0m\u001b[1;33m]\u001b[0m\u001b[1;33m,\u001b[0m \u001b[0mbins\u001b[0m\u001b[1;33m,\u001b[0m \u001b[0mlabels\u001b[0m\u001b[1;33m=\u001b[0m\u001b[0mlabels\u001b[0m\u001b[1;33m)\u001b[0m\u001b[1;33m\u001b[0m\u001b[1;33m\u001b[0m\u001b[0m\n\u001b[0m\u001b[0;32m      4\u001b[0m \u001b[1;33m\u001b[0m\u001b[0m\n\u001b[0;32m      5\u001b[0m \u001b[0mtest_df\u001b[0m\u001b[1;33m\u001b[0m\u001b[1;33m\u001b[0m\u001b[0m\n",
      "\u001b[1;32m~\\Anaconda3\\lib\\site-packages\\pandas\\core\\reshape\\tile.py\u001b[0m in \u001b[0;36mcut\u001b[1;34m(x, bins, right, labels, retbins, precision, include_lowest, duplicates)\u001b[0m\n\u001b[0;32m    232\u001b[0m             \u001b[0mbins\u001b[0m \u001b[1;33m=\u001b[0m \u001b[0mnp\u001b[0m\u001b[1;33m.\u001b[0m\u001b[0masarray\u001b[0m\u001b[1;33m(\u001b[0m\u001b[0mbins\u001b[0m\u001b[1;33m)\u001b[0m\u001b[1;33m\u001b[0m\u001b[1;33m\u001b[0m\u001b[0m\n\u001b[0;32m    233\u001b[0m         \u001b[0mbins\u001b[0m \u001b[1;33m=\u001b[0m \u001b[0m_convert_bin_to_numeric_type\u001b[0m\u001b[1;33m(\u001b[0m\u001b[0mbins\u001b[0m\u001b[1;33m,\u001b[0m \u001b[0mdtype\u001b[0m\u001b[1;33m)\u001b[0m\u001b[1;33m\u001b[0m\u001b[1;33m\u001b[0m\u001b[0m\n\u001b[1;32m--> 234\u001b[1;33m         \u001b[1;32mif\u001b[0m \u001b[1;33m(\u001b[0m\u001b[0mnp\u001b[0m\u001b[1;33m.\u001b[0m\u001b[0mdiff\u001b[0m\u001b[1;33m(\u001b[0m\u001b[0mbins\u001b[0m\u001b[1;33m)\u001b[0m \u001b[1;33m<\u001b[0m \u001b[1;36m0\u001b[0m\u001b[1;33m)\u001b[0m\u001b[1;33m.\u001b[0m\u001b[0many\u001b[0m\u001b[1;33m(\u001b[0m\u001b[1;33m)\u001b[0m\u001b[1;33m:\u001b[0m\u001b[1;33m\u001b[0m\u001b[1;33m\u001b[0m\u001b[0m\n\u001b[0m\u001b[0;32m    235\u001b[0m             \u001b[1;32mraise\u001b[0m \u001b[0mValueError\u001b[0m\u001b[1;33m(\u001b[0m\u001b[1;34m'bins must increase monotonically.'\u001b[0m\u001b[1;33m)\u001b[0m\u001b[1;33m\u001b[0m\u001b[1;33m\u001b[0m\u001b[0m\n\u001b[0;32m    236\u001b[0m \u001b[1;33m\u001b[0m\u001b[0m\n",
      "\u001b[1;32m~\\Anaconda3\\lib\\site-packages\\numpy\\lib\\function_base.py\u001b[0m in \u001b[0;36mdiff\u001b[1;34m(a, n, axis, prepend, append)\u001b[0m\n\u001b[0;32m   1238\u001b[0m     \u001b[0ma\u001b[0m \u001b[1;33m=\u001b[0m \u001b[0masanyarray\u001b[0m\u001b[1;33m(\u001b[0m\u001b[0ma\u001b[0m\u001b[1;33m)\u001b[0m\u001b[1;33m\u001b[0m\u001b[1;33m\u001b[0m\u001b[0m\n\u001b[0;32m   1239\u001b[0m     \u001b[0mnd\u001b[0m \u001b[1;33m=\u001b[0m \u001b[0ma\u001b[0m\u001b[1;33m.\u001b[0m\u001b[0mndim\u001b[0m\u001b[1;33m\u001b[0m\u001b[1;33m\u001b[0m\u001b[0m\n\u001b[1;32m-> 1240\u001b[1;33m     \u001b[0maxis\u001b[0m \u001b[1;33m=\u001b[0m \u001b[0mnormalize_axis_index\u001b[0m\u001b[1;33m(\u001b[0m\u001b[0maxis\u001b[0m\u001b[1;33m,\u001b[0m \u001b[0mnd\u001b[0m\u001b[1;33m)\u001b[0m\u001b[1;33m\u001b[0m\u001b[1;33m\u001b[0m\u001b[0m\n\u001b[0m\u001b[0;32m   1241\u001b[0m \u001b[1;33m\u001b[0m\u001b[0m\n\u001b[0;32m   1242\u001b[0m     \u001b[0mcombined\u001b[0m \u001b[1;33m=\u001b[0m \u001b[1;33m[\u001b[0m\u001b[1;33m]\u001b[0m\u001b[1;33m\u001b[0m\u001b[1;33m\u001b[0m\u001b[0m\n",
      "\u001b[1;31mAxisError\u001b[0m: axis -1 is out of bounds for array of dimension 0"
     ]
    }
   ],
   "source": [
    "bins = {\"<1000\", \"<5000\", \"<25000\", \"<125000\", \"<625000\"}\n",
    "labels = {\"low\", \"low-med\", \"med\", \"med-high\", \"high\", \"very high\"}\n",
    "test_df= merged_df[\"Country\"] = pd.cut(merged_df[\"GDP per Capita\"], bins, labels=labels)\n",
    "\n",
    "test_df"
   ]
  },
  {
   "cell_type": "code",
   "execution_count": 78,
   "metadata": {},
   "outputs": [],
   "source": [
    "usa = (clean_pivot.loc[:, \"United States of America\"])"
   ]
  },
  {
   "cell_type": "code",
   "execution_count": 12,
   "metadata": {},
   "outputs": [
    {
     "data": {
      "text/plain": [
       "Population (millions)                37.342372\n",
       "HDI                                   0.686360\n",
       "Total Ecological Footprint            3.317606\n",
       "Total Biocapacity                     4.019681\n",
       "Biocapacity Deficit or Reserve        0.702074\n",
       "GDP per Capita                    14238.324913\n",
       "dtype: float64"
      ]
     },
     "execution_count": 12,
     "metadata": {},
     "output_type": "execute_result"
    }
   ],
   "source": [
    "# merged_df.set_index('Region')\n",
    "# .groupby('Region')\n",
    "merged_df.mean()"
   ]
  },
  {
   "cell_type": "code",
   "execution_count": 73,
   "metadata": {},
   "outputs": [
    {
     "data": {
      "image/png": "[encoded data removed]",
      "text/plain": [
       "<Figure size 720x504 with 1 Axes>"
      ]
     },
     "metadata": {
      "needs_background": "light"
     },
     "output_type": "display_data"
    }
   ],
   "source": [
    "region_list = mean_df.index.tolist()\n",
    "avg_gdp = mean_df['GDP per Capita'].tolist()\n",
    "\n",
    "# # Set up axes  and labels\n",
    "# fig, ax = plt.subplots(figsize=(10,7))\n",
    "# x_ticks = np.arange(len(region_list))\n",
    "# ax.set_xticks(x_ticks)\n",
    "# ax.set_xticklabels(region_list, rotation=45, horizontalalignment='right')\n",
    "# plt.grid()\n",
    "# plt.axhline(linewidth=0.5, color='black')\n",
    "\n",
    "# plt.title('Average GDP per Region')\n",
    "# plt.ylabel('Total GDP (in Millions)')\n",
    "\n",
    "# # Function to label the bars\n",
    "# def autolabel(rects):\n",
    "#     for rect in rects:\n",
    "#         bar_height = rect.get_height()\n",
    "        \n",
    "#         # Formatting if bar is negative or positive\n",
    "#         if bar_height >= 0:\n",
    "#             label_va = bar_height + 3\n",
    "#     ax.text(rect.get_x() + rect.get_width()/2, label_va,\n",
    "#             str(int(bar_height)), ha='center')\n",
    "\n",
    "# # Color the bars        \n",
    "# bar_color = []\n",
    "# for change in avg_gdp:\n",
    "#         bar_color.append('c')\n",
    "        \n",
    "# # Plot the chart\n",
    "# bar_format = ax.bar(x_ticks - 0.5, avg_gdp, width=1.0, color=bar_color)\n",
    "\n"
   ]
  },
  {
   "cell_type": "code",
   "execution_count": null,
   "metadata": {},
   "outputs": [],
   "source": []
  }
 ],
 "metadata": {
  "kernelspec": {
   "display_name": "Python 3",
   "language": "python",
   "name": "python3"
  },
  "language_info": {
   "codemirror_mode": {
    "name": "ipython",
    "version": 3
   },
   "file_extension": ".py",
   "mimetype": "text/x-python",
   "name": "python",
   "nbconvert_exporter": "python",
   "pygments_lexer": "ipython3",
   "version": "3.7.3"
  }
 },
 "nbformat": 4,
 "nbformat_minor": 2
}
