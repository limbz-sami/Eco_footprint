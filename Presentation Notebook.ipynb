{
 "cells": [
  {
   "cell_type": "markdown",
   "metadata": {},
   "source": [
    "# 2016 Global Ecological Footprint Explorations and Results\n",
    "\n",
    "A Sample of the Clean Data:"
   ]
  },
  {
   "cell_type": "markdown",
   "metadata": {},
   "source": [
    "![](Images/clean_df.png)"
   ]
  },
  {
   "cell_type": "markdown",
   "metadata": {},
   "source": [
    "## Let's Review some Definitions!\n",
    "\n",
    "\n",
    "### Deficit/Reserve =  $Average Biocapacity - Average Ecological Footprint$\n",
    " \n",
    "### Earths Required =  $ \\frac{Ecological Footprint per Person} {Average Biocapacity per Person}$"
   ]
  },
  {
   "cell_type": "markdown",
   "metadata": {},
   "source": [
    "## The Questions"
   ]
  },
  {
   "cell_type": "markdown",
   "metadata": {},
   "source": [
    "Do countries with a higher population demand _more_ resources in terms of Earths required per person?"
   ]
  },
  {
   "cell_type": "markdown",
   "metadata": {},
   "source": [
    "![](Images/1_population_earths.png)"
   ]
  },
  {
   "cell_type": "markdown",
   "metadata": {},
   "source": [
    "* There does not seem to be a definite relationship between Population and Earths Required. There is mainly a cluster of low population countries distributed randomly along the Earths Required axis. \n",
    "* However, most countries regardless of population are still Earths Required > 1.0.\n",
    "\n",
    "(Two countries with outlier populations (> 350M), China and India, were not included on this graph. Their Earths Required are {china_e} and {india_e}, respectively.)"
   ]
  },
  {
   "cell_type": "markdown",
   "metadata": {},
   "source": [
    "Since population doesnt seem to effect earth's required, does the overall development of a country (HDI, GDP per Capita) effect Earth's required per person?"
   ]
  },
  {
   "cell_type": "markdown",
   "metadata": {},
   "source": [
    "![](Images/2_hdi_gdp_earths.png)"
   ]
  },
  {
   "cell_type": "markdown",
   "metadata": {},
   "source": [
    "* HDI and GDP, in part, define the development of a country. HDI is the quality of a basic standard of living. GDP is the output of produced goods. \n",
    "* Developed countries are considered those with HDI >= 0.8. The range(s) for GDP of developed countries is not fully agreed upon by economists but generally hover around $20,000. \n",
    "* As you can see, the countries begin to change around these limits. Earths Required gradually become greater as countries become more developed."
   ]
  },
  {
   "cell_type": "markdown",
   "metadata": {},
   "source": [
    "### Taking a closer look, do countries with a Higher HDI score have a greater Earth's required per person?"
   ]
  },
  {
   "cell_type": "markdown",
   "metadata": {},
   "source": [
    "![](Images/3_hdi_earths_region.png)"
   ]
  },
  {
   "cell_type": "markdown",
   "metadata": {},
   "source": [
    "* We explored the relationship between HDI and Earths Required. The datapoints in the scatterplot represent countries. \n",
    "Colors represent different region and the size of the datapoint represents size of the population.\n",
    "\n",
    "* The figure shows that there is a gradual increase in Earths Required as the HDI increases. \n",
    "We used a linear regression model used to fit the relationship with R-squared value of 0.54 \n",
    "\n",
    "* Region may have some impact on the Earths Required. However, the pattern is not as clear from the figure.\n",
    "\n",
    "* Population did not seem to impact Earths Required"
   ]
  },
  {
   "cell_type": "markdown",
   "metadata": {},
   "source": [
    "Breaking the HDI down into groups, which HDI groups have a higher Ecological Footprint per person?"
   ]
  },
  {
   "cell_type": "markdown",
   "metadata": {},
   "source": [
    "![](Images/4a_hdi_earths.png)"
   ]
  },
  {
   "cell_type": "markdown",
   "metadata": {},
   "source": [
    "* The Bargraph shows that, countries with higher HDI score have greater Earths Required.\n",
    "* The figure also indicates that there is a significant difference in ecological footprint between HDI categories"
   ]
  },
  {
   "cell_type": "markdown",
   "metadata": {},
   "source": [
    "Which HDI groups display a Deficit or Reserve? Is there a relationship?"
   ]
  },
  {
   "cell_type": "markdown",
   "metadata": {},
   "source": [
    "![](Images/4b_hdi_reserve.png)"
   ]
  },
  {
   "cell_type": "markdown",
   "metadata": {},
   "source": [
    "* The figure shows that there is a biocapacity deficit among countries with higher HDI score."
   ]
  },
  {
   "cell_type": "markdown",
   "metadata": {},
   "source": [
    "Breaking the GDP down into groups, which GDP groups have a higher Ecological Footprint per person?"
   ]
  },
  {
   "cell_type": "markdown",
   "metadata": {},
   "source": [
    "![](Images/6a_gdp_earths.png)"
   ]
  },
  {
   "cell_type": "markdown",
   "metadata": {},
   "source": [
    "* point\n",
    "* point"
   ]
  },
  {
   "cell_type": "markdown",
   "metadata": {},
   "source": [
    "Which GDP groups display a Defecit or Reserve? Is there a relationship?"
   ]
  },
  {
   "cell_type": "markdown",
   "metadata": {},
   "source": [
    "![](Images/6b_gdp_reserve.png)"
   ]
  },
  {
   "cell_type": "markdown",
   "metadata": {},
   "source": [
    "* point\n",
    "* point"
   ]
  },
  {
   "cell_type": "markdown",
   "metadata": {},
   "source": [
    "Of all the land types, which are creating a reseve? Which are creating a deficit?"
   ]
  },
  {
   "cell_type": "markdown",
   "metadata": {},
   "source": [
    "![](Images/landuse_df.png)"
   ]
  },
  {
   "cell_type": "markdown",
   "metadata": {},
   "source": [
    "* All groups have a Carbon Deficit which shows that Urban Land is where most ecological assets are being consumed rather than produced.\n",
    "* Eco Footprint and Carbon Deficit are rather high around HDI groups 0.7 and 0.8 where countries are reaching a \"developed\" stage. "
   ]
  },
  {
   "cell_type": "markdown",
   "metadata": {},
   "source": [
    "Which land types are making the largest contributions to the overall footprint?"
   ]
  },
  {
   "cell_type": "markdown",
   "metadata": {},
   "source": [
    "![](Images/7_hdi_footprint.png)"
   ]
  },
  {
   "cell_type": "markdown",
   "metadata": {},
   "source": [
    "* Most groups have a large Carbon Footprint. Carbon Footprint primarily comes from Urban Land. Urban Land consumes a lot resources and produces a lot of waste while other Land Types produce a lot of resources while producing little waste, even absorbing some waste.\n",
    "* The HDI groups of fully developed countries have dramatically higher eco footprints."
   ]
  },
  {
   "cell_type": "markdown",
   "metadata": {},
   "source": [
    "Can we see the whole Picture? Yes, we can!"
   ]
  },
  {
   "cell_type": "code",
   "execution_count": null,
   "metadata": {
    "scrolled": false
   },
   "outputs": [],
   "source": [
    "<Global Heat Map of Defecit/Reserve>\n",
    "![](Images/NAME.png)"
   ]
  }
 ],
 "metadata": {
  "kernelspec": {
   "display_name": "Python 3",
   "language": "python",
   "name": "python3"
  },
  "language_info": {
   "codemirror_mode": {
    "name": "ipython",
    "version": 3
   },
   "file_extension": ".py",
   "mimetype": "text/x-python",
   "name": "python",
   "nbconvert_exporter": "python",
   "pygments_lexer": "ipython3",
   "version": "3.7.1"
  }
 },
 "nbformat": 4,
 "nbformat_minor": 2
}
