{
 "cells": [
  {
   "cell_type": "markdown",
   "metadata": {},
   "source": [
    "# 2016 Global Ecological Footprint Explorations and Results\n",
    "\n",
    "A Sample of the Clean Data by Region:"
   ]
  },
  {
   "cell_type": "markdown",
   "metadata": {},
   "source": [
    "![](Images/CSVscreenshot.png)"
   ]
  },
  {
   "cell_type": "markdown",
   "metadata": {},
   "source": [
    "## Let's Review some Definitions!\n",
    "\n",
    "- Biocapacity\n",
    "\n",
    "- Footprint\n",
    "\n",
    "- Global Hectare\n",
    "\n",
    "- What does Human Development Index really mean?\n",
    "\n",
    "### Defecit/Reserve =  $Biocapacity - Ecological Footprint$\n",
    " \n",
    "### Earths Required =  $ \\frac{Individual Countries Footprint} {The Earths Total Biocapacity}$"
   ]
  },
  {
   "cell_type": "markdown",
   "metadata": {},
   "source": [
    "## The Questions"
   ]
  },
  {
   "cell_type": "markdown",
   "metadata": {},
   "source": [
    "Do countries with a higher population have a higher footprint?"
   ]
  },
  {
   "cell_type": "code",
   "execution_count": null,
   "metadata": {},
   "outputs": [],
   "source": [
    "<POPULATION by FOOTPRINT GRAPH>\n",
    "![](Images/NAME.png)"
   ]
  },
  {
   "cell_type": "markdown",
   "metadata": {},
   "source": [
    "Do Regions with a Higher GDP per Capita have a higher Footprint?\n",
    "\n",
    "How does that show up in the regions Defecit or Reserve?"
   ]
  },
  {
   "cell_type": "code",
   "execution_count": null,
   "metadata": {},
   "outputs": [],
   "source": [
    "<GDP to Footprint Graph>\n",
    "![](Images/NAME.png)\n",
    "<GDP to Defecit/Reserve Graph>\n",
    "![](Images/NAME.png)"
   ]
  },
  {
   "cell_type": "markdown",
   "metadata": {},
   "source": [
    "Do Regions with a Higher HDI have a Higher Footprint?\n",
    "\n",
    "How does that show up in the regions Defecit or Reserve?"
   ]
  },
  {
   "cell_type": "code",
   "execution_count": null,
   "metadata": {},
   "outputs": [],
   "source": [
    "<HDI to Footprint Graph>\n",
    "![](Images/NAME.png)\n",
    "<GDP to Defecit/Reserve Graph>\n",
    "![](Images/NAME.png)"
   ]
  },
  {
   "cell_type": "markdown",
   "metadata": {},
   "source": [
    "What is the make up of each Regions footprint by category?"
   ]
  },
  {
   "cell_type": "code",
   "execution_count": null,
   "metadata": {},
   "outputs": [],
   "source": [
    "<Footprint breakdown by Region Graph>\n",
    "![](Images/NAME.png)"
   ]
  },
  {
   "cell_type": "markdown",
   "metadata": {},
   "source": [
    "Which Regions have a defecit and which regions have a reserve?"
   ]
  },
  {
   "cell_type": "code",
   "execution_count": null,
   "metadata": {},
   "outputs": [],
   "source": [
    "<Total BioDefecit per Region>\n",
    "![](Images/NAME.png)"
   ]
  },
  {
   "cell_type": "markdown",
   "metadata": {},
   "source": [
    "Can we see the whole Picture? Yes, we can!"
   ]
  },
  {
   "cell_type": "code",
   "execution_count": null,
   "metadata": {
    "scrolled": false
   },
   "outputs": [],
   "source": [
    "<Global Heat Map of Defecit/Reserve>\n",
    "![](Images/NAME.png)"
   ]
  }
 ],
 "metadata": {
  "kernelspec": {
   "display_name": "Python 3",
   "language": "python",
   "name": "python3"
  },
  "language_info": {
   "codemirror_mode": {
    "name": "ipython",
    "version": 3
   },
   "file_extension": ".py",
   "mimetype": "text/x-python",
   "name": "python",
   "nbconvert_exporter": "python",
   "pygments_lexer": "ipython3",
   "version": "3.7.3"
  }
 },
 "nbformat": 4,
 "nbformat_minor": 2
}
