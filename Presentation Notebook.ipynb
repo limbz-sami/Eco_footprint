{
 "cells": [
  {
   "cell_type": "markdown",
   "metadata": {},
   "source": [
    "# 2016 Global Ecological Footprint Explorations and Results\n",
    "\n",
    "A Sample of the Clean Data:"
   ]
  },
  {
   "cell_type": "markdown",
   "metadata": {},
   "source": [
    "![](Images/clean_df.png)"
   ]
  },
  {
   "cell_type": "markdown",
   "metadata": {},
   "source": [
    "## Let's Review some Definitions!\n",
    "\n",
    "\n",
    "### Deficit/Reserve =  $Average Biocapacity - Average Ecological Footprint$\n",
    " \n",
    "### Earths Required =  $ \\frac{Ecological Footprint per Person} {Average Biocapacity per Person}$\n",
    "\n",
    "<br>(Keep in mind - Average Biocapacity per Person is 1.7gha!)"
   ]
  },
  {
   "cell_type": "markdown",
   "metadata": {},
   "source": [
    "## Questions :"
   ]
  },
  {
   "cell_type": "markdown",
   "metadata": {},
   "source": [
    "### Do countries with a higher population demand _more_ resources in terms of Earths required per person?"
   ]
  },
  {
   "cell_type": "markdown",
   "metadata": {},
   "source": [
    "![](Images/1_population_earths.png)"
   ]
  },
  {
   "cell_type": "markdown",
   "metadata": {},
   "source": [
    "* There does not seem to be a definite relationship between Population and Earths Required. There is mainly a cluster of low population countries distributed randomly along the Earths Required axis. \n",
    "* However, most countries regardless of population are still Earths Required > 1.0.\n",
    "\n",
    "(Two countries with outlier populations (> 350M), China and India, were not included on this graph. Their Earths Required are 1.95 and 0.67, respectively.)"
   ]
  },
  {
   "cell_type": "markdown",
   "metadata": {},
   "source": [
    "### Since population doesnt seem to effect Earth's required, does the overall development of a country (HDI, GDP per Capita) effect Earth's required?"
   ]
  },
  {
   "cell_type": "markdown",
   "metadata": {},
   "source": [
    "![](Images/2_hdi_gdp_earths.png)"
   ]
  },
  {
   "cell_type": "markdown",
   "metadata": {},
   "source": [
    "* HDI and GDP, in part, define the development of a country. HDI is the quality of a basic standard of living. GDP is the output of produced goods and services. \n",
    "* Developed countries are considered those with HDI >= 0.8. The range(s) for GDP of developed countries is not fully agreed upon by economists but generally hover around $20,000. \n",
    "* As you can see, the countries begin to change around these limits. Earths Required gradually become greater as countries become more developed."
   ]
  },
  {
   "cell_type": "markdown",
   "metadata": {},
   "source": [
    "### Taking a closer look, do countries with a Higher HDI score have a greater Earth's required per person?"
   ]
  },
  {
   "cell_type": "markdown",
   "metadata": {},
   "source": [
    "![](Images/3_hdi_earths_region.png)"
   ]
  },
  {
   "cell_type": "markdown",
   "metadata": {},
   "source": [
    "* We explored the relationship between HDI and Earths Required. The datapoints in the scatterplot represent countries. \n",
    "Colors represent different region and the size of the datapoint represents size of the population.\n",
    "\n",
    "* The figure shows that there is a gradual increase in Earths Required as the HDI increases. \n",
    "We used a linear regression model used to fit the relationship with R-squared value of 0.54 \n",
    "\n",
    "* Region may have some impact on the Earths Required. However, the pattern is not as clear from the figure.\n",
    "\n",
    "* Population did not seem to impact Earths Required"
   ]
  },
  {
   "cell_type": "markdown",
   "metadata": {},
   "source": [
    "### Breaking the HDI down into groups, which HDI groups have a higher Ecological Footprint per person?"
   ]
  },
  {
   "cell_type": "markdown",
   "metadata": {},
   "source": [
    "![](Images/4a_hdi_earths.png)"
   ]
  },
  {
   "cell_type": "markdown",
   "metadata": {},
   "source": [
    "* The Bargraph shows that, countries with higher HDI score have greater Earths Required.\n",
    "* The figure also indicates that there is a significant difference in ecological footprint between HDI categories"
   ]
  },
  {
   "cell_type": "markdown",
   "metadata": {},
   "source": [
    "## Hypothesis Testing"
   ]
  },
  {
   "cell_type": "markdown",
   "metadata": {},
   "source": [
    "### Hypothesis:\n",
    "* Developed countries have a higher ecological footprint. If the HDI group consist of score >0.6 Then, the ecological footprint would be larger compared to groups with HDI score < 0.6.\n",
    "\n",
    "### Null:\n",
    "* If level of development in a country has no effect on ecological footprint, then the ecological footprint would be random across countries."
   ]
  },
  {
   "cell_type": "markdown",
   "metadata": {},
   "source": [
    "### Results"
   ]
  },
  {
   "cell_type": "markdown",
   "metadata": {},
   "source": [
    "* There was significant difference in the Total Eco Footprints among HDI groups (p-value 2.65e-29). This means the development of countries does have an impact on footprint.\n",
    "\n",
    "* The Independent T-Tests between HDI groups shows there was significant difference in the Total Eco Footprint in the range of HDI > 0.5 to HDI <= 0.8. \n"
   ]
  },
  {
   "cell_type": "markdown",
   "metadata": {},
   "source": [
    "### Which HDI category display a Deficit or Reserve? Is there a relationship?"
   ]
  },
  {
   "cell_type": "markdown",
   "metadata": {},
   "source": [
    "![](Images/4b_hdi_reserve.png)"
   ]
  },
  {
   "cell_type": "markdown",
   "metadata": {},
   "source": [
    "* The figure shows that there is a biocapacity deficit among countries with higher HDI score, though not in a linear fashion."
   ]
  },
  {
   "cell_type": "markdown",
   "metadata": {},
   "source": [
    "### Breaking the GDP down into groups, which GDP groups have a higher Ecological Footprint per person?"
   ]
  },
  {
   "cell_type": "markdown",
   "metadata": {},
   "source": [
    "![](Images/6a_gdp_earths.png)"
   ]
  },
  {
   "cell_type": "markdown",
   "metadata": {},
   "source": [
    "* Viewing this graph, it is clear that the higher the GDP per Capita, the higher the Ecological Footprint.\n",
    "* Bins were broken down according to references in World Bank and UN Documents. Large disparities in GDP per Capita exist due to large disparities in wealth between countries."
   ]
  },
  {
   "cell_type": "markdown",
   "metadata": {},
   "source": [
    "### Which GDP groups display a Deficit or Reserve? Is there a relationship?"
   ]
  },
  {
   "cell_type": "markdown",
   "metadata": {},
   "source": [
    "![](Images/6b_gdp_reserve.png)"
   ]
  },
  {
   "cell_type": "markdown",
   "metadata": {},
   "source": [
    "* What is _almost_ clear, is that Countries that are considered \"developed\" typically fall into a deficit.  But our 5th group, somehow, slightly less of a deficit than the surrounding groups. Further study among these groups may be required.\n",
    "* It is also worth mentioning that different bins can yield very different results in Bio Deficit or Reserve. Thus there is not a clear relationship between GDP and Bio Deficit or Reserve."
   ]
  },
  {
   "cell_type": "markdown",
   "metadata": {},
   "source": [
    "### Of all the land types, which are creating a reserve? Which are creating a deficit?"
   ]
  },
  {
   "cell_type": "markdown",
   "metadata": {},
   "source": [
    "![](Images/landuse_df.png)"
   ]
  },
  {
   "cell_type": "markdown",
   "metadata": {},
   "source": [
    "* All groups have a Carbon Deficit which shows that Urban Land is where most ecological assets are being consumed rather than produced.\n",
    "* Eco Footprint and Carbon Deficit are rather high around HDI groups 0.7 and 0.8 where countries are reaching a \"developed\" stage. "
   ]
  },
  {
   "cell_type": "markdown",
   "metadata": {},
   "source": [
    "### Which land types are making the largest contributions to the overall footprint?"
   ]
  },
  {
   "cell_type": "markdown",
   "metadata": {},
   "source": [
    "![](Images/7_hdi_footprint.png)"
   ]
  },
  {
   "cell_type": "markdown",
   "metadata": {},
   "source": [
    "* Most groups have a large Carbon Footprint. Carbon Footprint primarily comes from Urban Land. Urban Land consumes a lot resources and produces a lot of waste while other Land Types produce a lot of resources while producing little waste, even absorbing some waste.\n",
    "* The HDI groups of fully developed countries have dramatically higher eco footprints."
   ]
  },
  {
   "cell_type": "markdown",
   "metadata": {},
   "source": [
    "# Conclusion"
   ]
  },
  {
   "cell_type": "markdown",
   "metadata": {},
   "source": [
    "As many of you have guessed, YES, it is the more developed countries that are overusing their resources, growing, building, creating more and more of a demand on Earth’s stretched resources.<br><br>\n",
    "It is not just a problem in the U.S., it is a problem across the world. It is with the lens of the Human Development Index and GDP per Capita - the defined measures of country development and wealth - that we see the direct relationship they have on the world's ecological reserves. "
   ]
  },
  {
   "cell_type": "markdown",
   "metadata": {},
   "source": [
    "## Factoids\n",
    "- The U.S. ranks 184 out of 188 countries in size of Ecological Footprint per person. \n",
    "- There are 45 developed countries globally. All of them have Earths Required > 1.0 which means all of them are using more than their share of biocapacity. \n",
    "- There are 143 countries (76%) that are still considered “less-developed”. <br>\n",
    "51 of them are “developing” (HDI between 0.7 & 0.8) and potentially will reach “developed” stage soon.\n",
    "- There are 129 countries globally (69%) that have Earths Required > 1.0."
   ]
  },
  {
   "cell_type": "markdown",
   "metadata": {},
   "source": [
    "## Further Research\n",
    "*  As mentioned, the results of bio deficit/reserve varied wildy. Further research might reveal which specific countries are causing higher bio deficits or reserves and what they have in common.\n",
    "*  The available data set was for one year only. It would be worth researching the changes in ecological footprint and bio deficit/reserve over a span of several years or decades.  \n"
   ]
  },
  {
   "cell_type": "code",
   "execution_count": null,
   "metadata": {},
   "outputs": [],
   "source": []
  }
 ],
 "metadata": {
  "kernelspec": {
   "display_name": "Python 3",
   "language": "python",
   "name": "python3"
  },
  "language_info": {
   "codemirror_mode": {
    "name": "ipython",
    "version": 3
   },
   "file_extension": ".py",
   "mimetype": "text/x-python",
   "name": "python",
   "nbconvert_exporter": "python",
   "pygments_lexer": "ipython3",
   "version": "3.7.1"
  }
 },
 "nbformat": 4,
 "nbformat_minor": 2
}
