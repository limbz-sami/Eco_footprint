{
 "cells": [
  {
   "cell_type": "markdown",
   "metadata": {},
   "source": [
    "# 2016 Global Ecological Footprint Explorations and Results\n",
    "\n",
    "A Sample of the Clean Data by Region:"
   ]
  },
  {
   "cell_type": "markdown",
   "metadata": {},
   "source": [
    "![](Images/CSVscreenshot.png)"
   ]
  },
  {
   "cell_type": "markdown",
   "metadata": {},
   "source": [
    "## Let's Review some Definitions!\n",
    "\n",
    "- Biocapacity\n",
    "\n",
    "- Footprint\n",
    "\n",
    "- Global Hectare\n",
    "\n",
    "- What does Human Development Index really mean?\n",
    "\n",
    "### Defecit/Reserve =  $Biocapacity - Ecological Footprint$\n",
    " \n",
    "### Earths Required =  $ \\frac{Individual Countries Footprint} {The Earths Total Biocapacity}$"
   ]
  },
  {
   "cell_type": "markdown",
   "metadata": {},
   "source": [
    "## The Questions"
   ]
  },
  {
   "cell_type": "markdown",
   "metadata": {},
   "source": [
    "Do countries with a higher population have a higher footprint?"
   ]
  },
  {
   "cell_type": "markdown",
   "metadata": {},
   "source": [
    "![](Images/1_population_footprint.png)"
   ]
  },
  {
   "cell_type": "markdown",
   "metadata": {},
   "source": [
    "Do Regions with a Higher GDP per Capita have a lower or higher BioReserve?"
   ]
  },
  {
   "cell_type": "markdown",
   "metadata": {},
   "source": [
    "![](Images/5b_gdp_reserve.png)\n",
    "![](Images/5a_gdp_earths.png)"
   ]
  },
  {
   "cell_type": "markdown",
   "metadata": {},
   "source": [
    "Do Regions with a Higher HDI have a lower or higher BioReserve?"
   ]
  },
  {
   "cell_type": "markdown",
   "metadata": {},
   "source": [
    "![](Images/4b_hdi_reserve.png)\n",
    "![](Images/4a_hdi_earths.png)\n"
   ]
  },
  {
   "cell_type": "markdown",
   "metadata": {},
   "source": [
    "It is clear there is a correlation between the hhigher GDP/higher HDI - but what is it?"
   ]
  },
  {
   "cell_type": "markdown",
   "metadata": {},
   "source": [
    "![](Images/.png)"
   ]
  },
  {
   "cell_type": "markdown",
   "metadata": {},
   "source": [
    "I AM HAVING TROUBLE FORMUALTING THIS SENTENCE??\n",
    "\n",
    "Does a Higher HDI and an increasing amount of Resources truly relate to each other?\n",
    "Does a Higher HDI and a larger demand of resources relate to the population itself?\n",
    "Do Countries with large populations and a large demand of resources always have a higher HDI?\n",
    "Do Countries with a Higher HDI and therefore a Higher Demand on Natural Resources have Higher Populations?\n",
    "Are the countries with Higher Populations always have a Higher HDI and always use more Resources?"
   ]
  },
  {
   "cell_type": "markdown",
   "metadata": {},
   "source": [
    "![](Images/3_hdi_earths_scatter.png)"
   ]
  },
  {
   "cell_type": "markdown",
   "metadata": {},
   "source": [
    "What is the make of land footprint by each HDI group?"
   ]
  },
  {
   "cell_type": "markdown",
   "metadata": {},
   "source": [
    "![](Images/7_hdi_footprint.png)"
   ]
  },
  {
   "cell_type": "markdown",
   "metadata": {},
   "source": [
    "Can we see the whole Picture? Yes, we can!"
   ]
  },
  {
   "cell_type": "code",
   "execution_count": null,
   "metadata": {
    "scrolled": false
   },
   "outputs": [],
   "source": [
    "<Global Heat Map of Defecit/Reserve>\n",
    "![](Images/NAME.png)"
   ]
  }
 ],
 "metadata": {
  "kernelspec": {
   "display_name": "Python 3",
   "language": "python",
   "name": "python3"
  },
  "language_info": {
   "codemirror_mode": {
    "name": "ipython",
    "version": 3
   },
   "file_extension": ".py",
   "mimetype": "text/x-python",
   "name": "python",
   "nbconvert_exporter": "python",
   "pygments_lexer": "ipython3",
   "version": "3.7.3"
  }
 },
 "nbformat": 4,
 "nbformat_minor": 2
}
